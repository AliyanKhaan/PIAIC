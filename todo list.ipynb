{
 "cells": [
  {
   "cell_type": "code",
   "execution_count": 1,
   "metadata": {},
   "outputs": [
    {
     "name": "stdout",
     "output_type": "stream",
     "text": [
      "early wakeup,break fast,Go to office,lunch,work again,come back to home,take some rest,dinner,go to sleep\n",
      "Enter your task to do in daily routinel\n",
      "your task no found\n"
     ]
    }
   ],
   "source": [
    "print(\"early wakeup,break fast,Go to office,lunch,work again,come back to home,take some rest,dinner,go to sleep\")\n",
    "\n",
    "tasklist=['early wakeup','break fast','Go to office','lunch','work again','come back to home','take some rest','dinner','go to sleep']\n",
    "emptylist=[]\n",
    "task=input(\"Enter your task to do in daily routine\")\n",
    "if task in tasklist:\n",
    "    storetask=tasklist.index(task)\n",
    "    tasklist.pop(storetask)\n",
    "    emptylist.append(task)\n",
    "    print(f\"your remaining task is:, {tasklist}\")\n",
    "    print(f\"Your completed task: {emptylist}\")\n",
    "else:\n",
    "    print(\"your task no found\")"
   ]
  },
  {
   "cell_type": "code",
   "execution_count": null,
   "metadata": {},
   "outputs": [],
   "source": []
  },
  {
   "cell_type": "code",
   "execution_count": null,
   "metadata": {},
   "outputs": [],
   "source": []
  }
 ],
 "metadata": {
  "kernelspec": {
   "display_name": "Python 3",
   "language": "python",
   "name": "python3"
  },
  "language_info": {
   "codemirror_mode": {
    "name": "ipython",
    "version": 3
   },
   "file_extension": ".py",
   "mimetype": "text/x-python",
   "name": "python",
   "nbconvert_exporter": "python",
   "pygments_lexer": "ipython3",
   "version": "3.7.3"
  }
 },
 "nbformat": 4,
 "nbformat_minor": 2
}
