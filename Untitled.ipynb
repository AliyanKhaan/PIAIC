{
 "cells": [
  {
   "cell_type": "code",
   "execution_count": 17,
   "metadata": {},
   "outputs": [
    {
     "name": "stdout",
     "output_type": "stream",
     "text": [
      "kanteen is taken. Please enter a different username.\n",
      "Bob is available.\n",
      "Casio is taken. Please enter a different username.\n",
      "Pants is available.\n",
      "Shirt is available.\n"
     ]
    }
   ],
   "source": [
    "current_users = ['kanteen','Wheel','Casio','Belt','Tom']\n",
    "new_users = ['kanteen','Bob','Casio','Pants','Shirt']\n",
    "\n",
    "for newuser in new_users:\n",
    "    if newuser in current_users:\n",
    "        print(newuser + \" is taken. Please enter a different username.\")\n",
    "    else:\n",
    "        print(newuser + \" is available.\")\n"
   ]
  },
  {
   "cell_type": "code",
   "execution_count": null,
   "metadata": {},
   "outputs": [],
   "source": []
  }
 ],
 "metadata": {
  "kernelspec": {
   "display_name": "Python 3",
   "language": "python",
   "name": "python3"
  },
  "language_info": {
   "codemirror_mode": {
    "name": "ipython",
    "version": 3
   },
   "file_extension": ".py",
   "mimetype": "text/x-python",
   "name": "python",
   "nbconvert_exporter": "python",
   "pygments_lexer": "ipython3",
   "version": "3.7.3"
  }
 },
 "nbformat": 4,
 "nbformat_minor": 2
}
