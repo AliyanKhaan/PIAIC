{
 "cells": [
  {
   "cell_type": "markdown",
   "metadata": {},
   "source": [
    "# Function"
   ]
  },
  {
   "cell_type": "code",
   "execution_count": 7,
   "metadata": {},
   "outputs": [],
   "source": [
    "def mult(a,b):\n",
    "    c = a*b \n",
    "    print(c)"
   ]
  },
  {
   "cell_type": "code",
   "execution_count": 10,
   "metadata": {},
   "outputs": [
    {
     "name": "stdout",
     "output_type": "stream",
     "text": [
      "8\n"
     ]
    }
   ],
   "source": [
    "mult(2,4)"
   ]
  },
  {
   "cell_type": "code",
   "execution_count": 11,
   "metadata": {},
   "outputs": [],
   "source": [
    "def add(a,b):\n",
    "    c = a+b\n",
    "    print(c)"
   ]
  },
  {
   "cell_type": "code",
   "execution_count": 13,
   "metadata": {},
   "outputs": [
    {
     "name": "stdout",
     "output_type": "stream",
     "text": [
      "10\n"
     ]
    }
   ],
   "source": [
    "add(3,7)"
   ]
  },
  {
   "cell_type": "code",
   "execution_count": 16,
   "metadata": {},
   "outputs": [],
   "source": [
    "def subs(a,b):\n",
    "    c = a-b\n",
    "    print(c)"
   ]
  },
  {
   "cell_type": "code",
   "execution_count": 20,
   "metadata": {},
   "outputs": [
    {
     "name": "stdout",
     "output_type": "stream",
     "text": [
      "-2\n"
     ]
    }
   ],
   "source": [
    "subs(3,5)"
   ]
  },
  {
   "cell_type": "code",
   "execution_count": 22,
   "metadata": {},
   "outputs": [],
   "source": [
    "def dev(a,b):\n",
    "    c = a/b\n",
    "    print(c)"
   ]
  },
  {
   "cell_type": "code",
   "execution_count": 24,
   "metadata": {},
   "outputs": [
    {
     "name": "stdout",
     "output_type": "stream",
     "text": [
      "2.0\n"
     ]
    }
   ],
   "source": [
    "dev(4,2)"
   ]
  },
  {
   "cell_type": "code",
   "execution_count": 25,
   "metadata": {},
   "outputs": [],
   "source": [
    "def a(a,b):\n",
    "    c = a%b\n",
    "    print(c)"
   ]
  },
  {
   "cell_type": "code",
   "execution_count": 26,
   "metadata": {},
   "outputs": [
    {
     "name": "stdout",
     "output_type": "stream",
     "text": [
      "2\n"
     ]
    }
   ],
   "source": [
    "a(2,4)"
   ]
  },
  {
   "cell_type": "code",
   "execution_count": 31,
   "metadata": {},
   "outputs": [],
   "source": [
    "def full_name(FName,MidName,LastName):\n",
    "    x=FName+MidName+LastName\n",
    "    print(x)"
   ]
  },
  {
   "cell_type": "code",
   "execution_count": 35,
   "metadata": {},
   "outputs": [
    {
     "name": "stdout",
     "output_type": "stream",
     "text": [
      "Aliyan ALi Khan\n"
     ]
    }
   ],
   "source": [
    "full_name(\"Aliyan \",\"ALi \",\"Khan\")"
   ]
  },
  {
   "cell_type": "code",
   "execution_count": 37,
   "metadata": {},
   "outputs": [],
   "source": [
    "def full_name(FName,MidName,LastName):\n",
    "    x=FName +' '+MidName +' '+LastName\n",
    "    print(x)"
   ]
  },
  {
   "cell_type": "code",
   "execution_count": 38,
   "metadata": {},
   "outputs": [
    {
     "name": "stdout",
     "output_type": "stream",
     "text": [
      "Aliyan Ali Khan\n"
     ]
    }
   ],
   "source": [
    "full_name(\"Aliyan\",\"Ali\",\"Khan\")"
   ]
  },
  {
   "cell_type": "code",
   "execution_count": 63,
   "metadata": {},
   "outputs": [
    {
     "name": "stdout",
     "output_type": "stream",
     "text": [
      "Enter First name: Aliyan\n",
      "Enter Mid name: Ali\n",
      "Enter Last name: Khan\n",
      "Aliyan Ali Khan\n"
     ]
    }
   ],
   "source": [
    "def full_name():\n",
    "    F_Name = input('Enter First name: ')\n",
    "    M_Name = input('Enter Mid name: ')\n",
    "    L_Name = input('Enter Last name: ')\n",
    "\n",
    "    x=F_Name+' '+M_Name+' ' +L_Name\n",
    "    print(x)\n",
    "full_name()    "
   ]
  },
  {
   "cell_type": "code",
   "execution_count": 16,
   "metadata": {},
   "outputs": [
    {
     "name": "stdout",
     "output_type": "stream",
     "text": [
      "enter num 1: 2\n",
      "enter num 2: 2\n",
      "enter opperator+\n",
      "4\n"
     ]
    }
   ],
   "source": [
    "def calc():\n",
    "    a=int(input('enter num 1: '))\n",
    "    b=int(input('enter num 2: '))\n",
    "    opp=input('enter opperator')\n",
    "    if opp == '+':\n",
    "        c= a + b\n",
    "        print(c)\n",
    "    elif opp == '-':\n",
    "        c= a-b\n",
    "        print(c)\n",
    "    elif opp == '*':\n",
    "        c=a*b\n",
    "        print(c)    \n",
    "    elif opp == '/':\n",
    "        c=a/b\n",
    "        print(c)\n",
    "    else:\n",
    "        print('Operator not define')\n",
    "calc()        "
   ]
  },
  {
   "cell_type": "markdown",
   "metadata": {},
   "source": [
    "# Keyword Argument"
   ]
  },
  {
   "cell_type": "code",
   "execution_count": 9,
   "metadata": {},
   "outputs": [
    {
     "name": "stdout",
     "output_type": "stream",
     "text": [
      "Operator not define\n"
     ]
    }
   ],
   "source": [
    "calc(2,'-',2)"
   ]
  },
  {
   "cell_type": "code",
   "execution_count": 11,
   "metadata": {},
   "outputs": [
    {
     "name": "stdout",
     "output_type": "stream",
     "text": [
      "2\n"
     ]
    }
   ],
   "source": [
    "calc(a=4,opp='-',b=2)"
   ]
  },
  {
   "cell_type": "markdown",
   "metadata": {},
   "source": [
    "# Default Parameter"
   ]
  },
  {
   "cell_type": "code",
   "execution_count": 26,
   "metadata": {},
   "outputs": [
    {
     "name": "stdout",
     "output_type": "stream",
     "text": [
      "My name is Aliyan\n",
      "My age is 18\n",
      "My gender is male\n"
     ]
    }
   ],
   "source": [
    "def my_info(name, age=18,gender='male'):\n",
    "    print(f'My name is {name}')\n",
    "    print(f'My age is {age}')\n",
    "    print(f'My gender is {gender}')\n",
    "my_info('Aliyan')    "
   ]
  },
  {
   "cell_type": "code",
   "execution_count": 37,
   "metadata": {},
   "outputs": [
    {
     "name": "stdout",
     "output_type": "stream",
     "text": [
      "Aliyan Khan\n"
     ]
    }
   ],
   "source": [
    "def my_name(f_name,l_name,m_name = ''):\n",
    "    if m_name:\n",
    "        full_name= f_name + ' ' + m_name+' '+ l_name\n",
    "    else:\n",
    "        full_name = f_name+' ' + '' + l_name\n",
    "    return full_name\n",
    "a=my_name('Aliyan','Khan')\n",
    "print (a)"
   ]
  },
  {
   "cell_type": "code",
   "execution_count": 43,
   "metadata": {},
   "outputs": [
    {
     "name": "stdout",
     "output_type": "stream",
     "text": [
      "hello,Ali\n",
      "hello,Nasir\n",
      "hello,Ahmed\n",
      "hello,Umer\n"
     ]
    }
   ],
   "source": [
    "def my_friends(names):\n",
    "    for name in names:\n",
    "        greet =\"hello,\"+ name\n",
    "        print(greet)\n",
    "user = ['Ali','Nasir','Ahmed','Umer']\n",
    "my_friends(user)"
   ]
  },
  {
   "cell_type": "code",
   "execution_count": null,
   "metadata": {},
   "outputs": [],
   "source": []
  },
  {
   "cell_type": "code",
   "execution_count": null,
   "metadata": {},
   "outputs": [],
   "source": []
  },
  {
   "cell_type": "code",
   "execution_count": null,
   "metadata": {},
   "outputs": [],
   "source": []
  },
  {
   "cell_type": "code",
   "execution_count": null,
   "metadata": {},
   "outputs": [],
   "source": []
  }
 ],
 "metadata": {
  "kernelspec": {
   "display_name": "Python 3",
   "language": "python",
   "name": "python3"
  },
  "language_info": {
   "codemirror_mode": {
    "name": "ipython",
    "version": 3
   },
   "file_extension": ".py",
   "mimetype": "text/x-python",
   "name": "python",
   "nbconvert_exporter": "python",
   "pygments_lexer": "ipython3",
   "version": "3.7.3"
  }
 },
 "nbformat": 4,
 "nbformat_minor": 2
}
